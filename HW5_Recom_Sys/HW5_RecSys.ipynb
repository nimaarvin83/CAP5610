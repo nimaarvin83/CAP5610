{
 "cells": [
  {
   "cell_type": "markdown",
   "metadata": {},
   "source": [
    "# Machine Learning with Matrix Data for Recommender Systems"
   ]
  },
  {
   "cell_type": "markdown",
   "metadata": {},
   "source": [
    "### 1. Recommender systems are a hot topic. Recommendation systems can be formulated as a task of matrix completion in machine learning. Recommender systems aim to predict the rating that a user will give for an item (e.g., a restaurant, a movie, a product). "
   ]
  },
  {
   "cell_type": "markdown",
   "metadata": {},
   "source": [
    "### 2. Download the movie rating dataset from: https://www.kaggle.com/rounakbanik/themovies-dataset. These files contain metadata for all 45,000 movies listed in the Full MovieLens Dataset. The dataset consists of movies released on or before July 2017. Data points include cast, crew, plot keywords, budget, revenue, posters, release dates, languages, production companies, countries, TMDB vote counts and vote averages. This dataset also has files containing 26 million ratings from 270,000 users for all 45,000 movies. Ratings are on a scale of 1-5 and have been obtained from the official GroupLens website. "
   ]
  },
  {
   "cell_type": "markdown",
   "metadata": {},
   "source": [
    "### 3. Building a small recommender system with the matrix data: “ratings.csv”. You can use the recommender system library: Surprise (http://surpriselib.com), use other recommender system libraries, or implement from scratches. "
   ]
  },
  {
   "cell_type": "code",
   "execution_count": 54,
   "metadata": {},
   "outputs": [],
   "source": [
    "import numpy as np\n",
    "import pandas as pd\n",
    "import matplotlib.pyplot as plt\n",
    "from surprise import SVD\n",
    "from surprise.model_selection import cross_validate\n",
    "from surprise import Dataset\n",
    "from surprise import Reader\n",
    "from surprise import KNNWithMeans\n",
    "from surprise.model_selection import GridSearchCV\n",
    "from surprise import accuracy\n",
    "%matplotlib inline"
   ]
  },
  {
   "cell_type": "markdown",
   "metadata": {},
   "source": [
    "### a. Read data from “ratings.csv” with line format: 'userID movieID rating timestamp'. "
   ]
  },
  {
   "cell_type": "code",
   "execution_count": 55,
   "metadata": {},
   "outputs": [],
   "source": [
    "ratings_small =pd.read_csv('ratings_small.csv')\n",
    "reader = Reader(line_format='user item rating', rating_scale=(1,5))\n",
    "data = Dataset.load_from_df(ratings_small[['userId','movieId','rating']], reader)"
   ]
  },
  {
   "cell_type": "markdown",
   "metadata": {},
   "source": [
    "### b. MAE and RMSE are two famous metrics for evaluating the performances of a recommender system. The definition of MAE can be found via: https://en.wikipedia.org/wiki/Mean_absolute_error. The definition of RMSE can be found via: https://en.wikipedia.org/wiki/Root-mean-square_deviation. "
   ]
  },
  {
   "cell_type": "markdown",
   "metadata": {},
   "source": [
    "## c. Compute the average MAE and RMSE of the Probabilistic Matrix Factorization (PMF), User based Collaborative Filtering, Item based Collaborative Filtering, under the 5-folds cross-validation "
   ]
  },
  {
   "cell_type": "markdown",
   "metadata": {},
   "source": [
    ">### Probabilistic Matrix Factorization (PMF)\n"
   ]
  },
  {
   "cell_type": "code",
   "execution_count": 59,
   "metadata": {},
   "outputs": [
    {
     "name": "stdout",
     "output_type": "stream",
     "text": [
      "Evaluating RMSE, MAE of algorithm SVD on 5 split(s).\n",
      "\n",
      "                  Fold 1  Fold 2  Fold 3  Fold 4  Fold 5  Mean    Std     \n",
      "RMSE (testset)    1.0190  0.9982  1.0069  1.0066  1.0006  1.0063  0.0072  \n",
      "MAE (testset)     0.7856  0.7720  0.7798  0.7792  0.7726  0.7778  0.0050  \n",
      "Fit time          6.27    6.74    7.92    7.24    6.10    6.85    0.66    \n",
      "Test time         0.14    0.17    0.12    0.28    0.13    0.17    0.06    \n"
     ]
    }
   ],
   "source": [
    "# Using the PMF method\n",
    "pmf = SVD(biased=False)\n",
    "\n",
    "# Run 5-fold cross-validation and print results.\n",
    "pmf_cv = cross_validate(pmf, data, measures=['RMSE', 'MAE'], cv=5, verbose=True)"
   ]
  },
  {
   "cell_type": "markdown",
   "metadata": {},
   "source": [
    "##### Mean of MAE for the five fold cross validation by PMF"
   ]
  },
  {
   "cell_type": "code",
   "execution_count": 94,
   "metadata": {},
   "outputs": [
    {
     "data": {
      "text/plain": [
       "0.7778359031169122"
      ]
     },
     "execution_count": 94,
     "metadata": {},
     "output_type": "execute_result"
    }
   ],
   "source": [
    "pmf_cv['test_mae'].mean()"
   ]
  },
  {
   "cell_type": "markdown",
   "metadata": {},
   "source": [
    "##### Mean of RMSE for the five fold cross validation by PMF"
   ]
  },
  {
   "cell_type": "code",
   "execution_count": 95,
   "metadata": {},
   "outputs": [
    {
     "data": {
      "text/plain": [
       "1.0062576988614322"
      ]
     },
     "execution_count": 95,
     "metadata": {},
     "output_type": "execute_result"
    }
   ],
   "source": [
    "pmf_cv['test_rmse'].mean()"
   ]
  },
  {
   "cell_type": "markdown",
   "metadata": {},
   "source": [
    ">### User based Collaborative Filtering"
   ]
  },
  {
   "cell_type": "code",
   "execution_count": 57,
   "metadata": {},
   "outputs": [
    {
     "name": "stdout",
     "output_type": "stream",
     "text": [
      "Computing the msd similarity matrix...\n",
      "Done computing similarity matrix.\n",
      "Computing the msd similarity matrix...\n",
      "Done computing similarity matrix.\n",
      "Computing the msd similarity matrix...\n",
      "Done computing similarity matrix.\n",
      "Computing the msd similarity matrix...\n",
      "Done computing similarity matrix.\n",
      "Computing the msd similarity matrix...\n",
      "Done computing similarity matrix.\n",
      "Evaluating RMSE, MAE of algorithm KNNWithMeans on 5 split(s).\n",
      "\n",
      "                  Fold 1  Fold 2  Fold 3  Fold 4  Fold 5  Mean    Std     \n",
      "RMSE (testset)    0.9282  0.9127  0.9160  0.9176  0.9183  0.9185  0.0052  \n",
      "MAE (testset)     0.7093  0.6979  0.7008  0.7048  0.7036  0.7033  0.0038  \n",
      "Fit time          0.32    0.38    0.30    0.33    0.38    0.34    0.03    \n",
      "Test time         3.07    2.30    2.53    2.40    2.81    2.62    0.28    \n"
     ]
    }
   ],
   "source": [
    "sim_options = {\n",
    "    \"user_based\": True,  \n",
    "}\n",
    "ubcf = KNNWithMeans(sim_options=sim_options)\n",
    "ubcf_cv = cross_validate(ubcf, data, measures=['RMSE', 'MAE'], cv=5, verbose=True);"
   ]
  },
  {
   "cell_type": "markdown",
   "metadata": {},
   "source": [
    "##### Mean of MAE for the five fold cross validation by User Based Collaborative Filtering"
   ]
  },
  {
   "cell_type": "code",
   "execution_count": 97,
   "metadata": {},
   "outputs": [
    {
     "data": {
      "text/plain": [
       "0.7032787250949093"
      ]
     },
     "execution_count": 97,
     "metadata": {},
     "output_type": "execute_result"
    }
   ],
   "source": [
    "ubcf_cv['test_mae'].mean()"
   ]
  },
  {
   "cell_type": "markdown",
   "metadata": {},
   "source": [
    "##### Mean of RMSE for the five fold cross validation by User Based Collaborative Filtering"
   ]
  },
  {
   "cell_type": "code",
   "execution_count": 98,
   "metadata": {},
   "outputs": [
    {
     "data": {
      "text/plain": [
       "0.9185477755198704"
      ]
     },
     "execution_count": 98,
     "metadata": {},
     "output_type": "execute_result"
    }
   ],
   "source": [
    "ubcf_cv['test_rmse'].mean()"
   ]
  },
  {
   "cell_type": "markdown",
   "metadata": {},
   "source": [
    ">### Item based Collaborative Filtering"
   ]
  },
  {
   "cell_type": "code",
   "execution_count": 58,
   "metadata": {},
   "outputs": [
    {
     "name": "stdout",
     "output_type": "stream",
     "text": [
      "Computing the msd similarity matrix...\n",
      "Done computing similarity matrix.\n",
      "Computing the msd similarity matrix...\n",
      "Done computing similarity matrix.\n",
      "Computing the msd similarity matrix...\n",
      "Done computing similarity matrix.\n",
      "Computing the msd similarity matrix...\n",
      "Done computing similarity matrix.\n",
      "Computing the msd similarity matrix...\n",
      "Done computing similarity matrix.\n",
      "Evaluating RMSE, MAE of algorithm KNNWithMeans on 5 split(s).\n",
      "\n",
      "                  Fold 1  Fold 2  Fold 3  Fold 4  Fold 5  Mean    Std     \n",
      "RMSE (testset)    0.9198  0.9233  0.9165  0.9192  0.9180  0.9193  0.0023  \n",
      "MAE (testset)     0.7049  0.7041  0.7007  0.7046  0.7053  0.7039  0.0017  \n",
      "Fit time          0.22    0.26    0.27    0.33    0.27    0.27    0.03    \n",
      "Test time         2.04    1.70    2.05    1.89    1.79    1.89    0.14    \n"
     ]
    }
   ],
   "source": [
    "sim_options = {\n",
    "    \"name\"\n",
    "    \"user_based\": False,  \n",
    "}\n",
    "ibcf = KNNWithMeans(sim_options=sim_options)\n",
    "ibcf_cv = cross_validate(ubcf, data, measures=['RMSE', 'MAE'], cv=5, verbose=True);"
   ]
  },
  {
   "cell_type": "markdown",
   "metadata": {},
   "source": [
    "##### Mean of MAE for the five fold cross validation by Item Based Collaborative Filtering"
   ]
  },
  {
   "cell_type": "code",
   "execution_count": 99,
   "metadata": {},
   "outputs": [
    {
     "data": {
      "text/plain": [
       "0.7039296420632072"
      ]
     },
     "execution_count": 99,
     "metadata": {},
     "output_type": "execute_result"
    }
   ],
   "source": [
    "ibcf_cv['test_mae'].mean()"
   ]
  },
  {
   "cell_type": "markdown",
   "metadata": {},
   "source": [
    "##### Mean of RMSE for the five fold cross validation by Item Based Collaborative Filtering"
   ]
  },
  {
   "cell_type": "code",
   "execution_count": 100,
   "metadata": {},
   "outputs": [
    {
     "data": {
      "text/plain": [
       "0.919345948628431"
      ]
     },
     "execution_count": 100,
     "metadata": {},
     "output_type": "execute_result"
    }
   ],
   "source": [
    "ibcf_cv['test_rmse'].mean()"
   ]
  },
  {
   "cell_type": "markdown",
   "metadata": {},
   "source": [
    "## d. Compare the average (mean) performances of User-based collaborative filtering, item-based collaborative filtering, PMF with respect to RMSE and MAE. Which ML model is the best in the movie rating data? "
   ]
  },
  {
   "cell_type": "code",
   "execution_count": 78,
   "metadata": {},
   "outputs": [],
   "source": [
    "pmf_df = pd.DataFrame(pmf_cv)\n",
    "pmf_df = pmf_df[['test_rmse','test_mae']].rename(columns={'test_rmse':'pmf_rmse','test_mae':'pmf_mae'})"
   ]
  },
  {
   "cell_type": "code",
   "execution_count": 80,
   "metadata": {},
   "outputs": [],
   "source": [
    "ubcf_df = pd.DataFrame(ubcf_cv)\n",
    "ubcf_df = ubcf_df[['test_rmse','test_mae']].rename(columns={'test_rmse':'ubcf_rmse','test_mae':'ubcf_mae'})"
   ]
  },
  {
   "cell_type": "code",
   "execution_count": 81,
   "metadata": {},
   "outputs": [],
   "source": [
    "ibcf_df = pd.DataFrame(ibcf_cv)\n",
    "ibcf_df = ibcf_df[['test_rmse','test_mae']].rename(columns={'test_rmse':'ibcf_rmse','test_mae':'ibcf_mae'})"
   ]
  },
  {
   "cell_type": "code",
   "execution_count": 84,
   "metadata": {},
   "outputs": [],
   "source": [
    "metrics = pd.concat([pmf_df,ubcf_df,ibcf_df], axis=1)"
   ]
  },
  {
   "cell_type": "code",
   "execution_count": 104,
   "metadata": {},
   "outputs": [
    {
     "data": {
      "text/plain": [
       "pmf_mae     0.777836\n",
       "ubcf_mae    0.703279\n",
       "ibcf_mae    0.703930\n",
       "dtype: float64"
      ]
     },
     "execution_count": 104,
     "metadata": {},
     "output_type": "execute_result"
    }
   ],
   "source": [
    "# MAE comparison fot the three methods\n",
    "metrics.loc[:,metrics.columns.str.contains('mae')].mean()"
   ]
  },
  {
   "cell_type": "markdown",
   "metadata": {},
   "source": [
    "##### The User based collaborative filtering method has the lowest MAE among all"
   ]
  },
  {
   "cell_type": "code",
   "execution_count": 103,
   "metadata": {},
   "outputs": [
    {
     "data": {
      "text/plain": [
       "pmf_rmse     1.006258\n",
       "ubcf_rmse    0.918548\n",
       "ibcf_rmse    0.919346\n",
       "dtype: float64"
      ]
     },
     "execution_count": 103,
     "metadata": {},
     "output_type": "execute_result"
    }
   ],
   "source": [
    "# RMSE comparison fot the three methods\n",
    "metrics.loc[:,metrics.columns.str.contains('rmse')].mean()"
   ]
  },
  {
   "cell_type": "markdown",
   "metadata": {},
   "source": [
    "##### The User based collaborative filtering has the lowest RMSE among all"
   ]
  },
  {
   "cell_type": "markdown",
   "metadata": {},
   "source": [
    "##### The User Based Collaborative Filtering with lowest error is relatively the best"
   ]
  },
  {
   "cell_type": "markdown",
   "metadata": {},
   "source": [
    "## e. Examine how the cosine, MSD (Mean Squared Difference), and Pearson similarities impact the performances of User based Collaborative Filtering and Item based Collaborative Filtering. Plot your results. Is the impact of the three metrics on User based Collaborative Filtering consistent with the impact of the three metrics on Item based Collaborative Filtering?"
   ]
  },
  {
   "cell_type": "code",
   "execution_count": 198,
   "metadata": {},
   "outputs": [],
   "source": [
    "#### User Based Collaborative Fileting "
   ]
  },
  {
   "cell_type": "code",
   "execution_count": 122,
   "metadata": {},
   "outputs": [],
   "source": [
    "dist_measures = ['cosine', 'msd', 'pearson']"
   ]
  },
  {
   "cell_type": "code",
   "execution_count": 134,
   "metadata": {},
   "outputs": [
    {
     "name": "stdout",
     "output_type": "stream",
     "text": [
      "{'name': 'cosine', 'user_based': True}\n",
      "Computing the cosine similarity matrix...\n",
      "Done computing similarity matrix.\n",
      "Computing the cosine similarity matrix...\n",
      "Done computing similarity matrix.\n",
      "Computing the cosine similarity matrix...\n",
      "Done computing similarity matrix.\n",
      "Computing the cosine similarity matrix...\n",
      "Done computing similarity matrix.\n",
      "Computing the cosine similarity matrix...\n",
      "Done computing similarity matrix.\n",
      "Evaluating RMSE, MAE of algorithm KNNWithMeans on 5 split(s).\n",
      "\n",
      "                  Fold 1  Fold 2  Fold 3  Fold 4  Fold 5  Mean    Std     \n",
      "RMSE (testset)    0.9293  0.9206  0.9187  0.9200  0.9192  0.9216  0.0039  \n",
      "MAE (testset)     0.7122  0.7048  0.7041  0.7058  0.7052  0.7064  0.0029  \n",
      "Fit time          0.66    0.80    0.96    0.90    0.97    0.86    0.12    \n",
      "Test time         2.37    1.89    2.06    2.88    2.34    2.31    0.34    \n",
      "{'name': 'msd', 'user_based': True}\n",
      "Computing the msd similarity matrix...\n",
      "Done computing similarity matrix.\n",
      "Computing the msd similarity matrix...\n",
      "Done computing similarity matrix.\n",
      "Computing the msd similarity matrix...\n",
      "Done computing similarity matrix.\n",
      "Computing the msd similarity matrix...\n",
      "Done computing similarity matrix.\n",
      "Computing the msd similarity matrix...\n",
      "Done computing similarity matrix.\n",
      "Evaluating RMSE, MAE of algorithm KNNWithMeans on 5 split(s).\n",
      "\n",
      "                  Fold 1  Fold 2  Fold 3  Fold 4  Fold 5  Mean    Std     \n",
      "RMSE (testset)    0.9296  0.9187  0.9162  0.9184  0.9151  0.9196  0.0052  \n",
      "MAE (testset)     0.7094  0.7047  0.7013  0.7043  0.6995  0.7038  0.0034  \n",
      "Fit time          0.28    0.28    0.28    0.26    0.27    0.27    0.01    \n",
      "Test time         1.95    2.01    2.00    1.83    2.19    1.99    0.12    \n",
      "{'name': 'pearson', 'user_based': True}\n",
      "Computing the pearson similarity matrix...\n",
      "Done computing similarity matrix.\n",
      "Computing the pearson similarity matrix...\n",
      "Done computing similarity matrix.\n",
      "Computing the pearson similarity matrix...\n",
      "Done computing similarity matrix.\n",
      "Computing the pearson similarity matrix...\n",
      "Done computing similarity matrix.\n",
      "Computing the pearson similarity matrix...\n",
      "Done computing similarity matrix.\n",
      "Evaluating RMSE, MAE of algorithm KNNWithMeans on 5 split(s).\n",
      "\n",
      "                  Fold 1  Fold 2  Fold 3  Fold 4  Fold 5  Mean    Std     \n",
      "RMSE (testset)    0.9314  0.9178  0.9257  0.9181  0.9246  0.9235  0.0051  \n",
      "MAE (testset)     0.7079  0.6990  0.7058  0.7018  0.7066  0.7042  0.0033  \n",
      "Fit time          1.14    0.98    0.88    0.84    0.86    0.94    0.11    \n",
      "Test time         2.30    1.73    1.65    1.88    2.45    2.00    0.32    \n"
     ]
    }
   ],
   "source": [
    "ubcf_MAE_list = []\n",
    "ubcf_RMSE_list = []\n",
    "for i in dist_measures:\n",
    "    sim_options = {\"name\":i,\"user_based\": True}\n",
    "    print(sim_options)\n",
    "    e_ubcf = KNNWithMeans(sim_options=sim_options)\n",
    "    e_ubcf_cv = cross_validate(e_ubcf, data, measures=['RMSE', 'MAE'], cv=5, verbose=True);\n",
    "    ubcf_MAE_list.append(e_ubcf_cv['test_mae'].mean())\n",
    "    ubcf_RMSE_list.append(e_ubcf_cv['test_rmse'].mean())"
   ]
  },
  {
   "cell_type": "code",
   "execution_count": 135,
   "metadata": {},
   "outputs": [
    {
     "data": {
      "text/plain": [
       "[0.7064224938583539, 0.7038300708757503, 0.7042134890537148]"
      ]
     },
     "execution_count": 135,
     "metadata": {},
     "output_type": "execute_result"
    }
   ],
   "source": [
    "ubcf_MAE_list"
   ]
  },
  {
   "cell_type": "code",
   "execution_count": 136,
   "metadata": {},
   "outputs": [
    {
     "data": {
      "text/plain": [
       "[0.9215810850795323, 0.9196008177029263, 0.9235144268169752]"
      ]
     },
     "execution_count": 136,
     "metadata": {},
     "output_type": "execute_result"
    }
   ],
   "source": [
    "ubcf_RMSE_list"
   ]
  },
  {
   "cell_type": "code",
   "execution_count": 137,
   "metadata": {},
   "outputs": [],
   "source": [
    "e_ubcf_df = pd.DataFrame([ubcf_MAE_list,ubcf_RMSE_list], columns=dist_measures, index=['MAE','RMSE'])"
   ]
  },
  {
   "cell_type": "code",
   "execution_count": 138,
   "metadata": {},
   "outputs": [
    {
     "data": {
      "text/html": [
       "<div>\n",
       "<style scoped>\n",
       "    .dataframe tbody tr th:only-of-type {\n",
       "        vertical-align: middle;\n",
       "    }\n",
       "\n",
       "    .dataframe tbody tr th {\n",
       "        vertical-align: top;\n",
       "    }\n",
       "\n",
       "    .dataframe thead th {\n",
       "        text-align: right;\n",
       "    }\n",
       "</style>\n",
       "<table border=\"1\" class=\"dataframe\">\n",
       "  <thead>\n",
       "    <tr style=\"text-align: right;\">\n",
       "      <th></th>\n",
       "      <th>cosine</th>\n",
       "      <th>msd</th>\n",
       "      <th>pearson</th>\n",
       "    </tr>\n",
       "  </thead>\n",
       "  <tbody>\n",
       "    <tr>\n",
       "      <th>MAE</th>\n",
       "      <td>0.706422</td>\n",
       "      <td>0.703830</td>\n",
       "      <td>0.704213</td>\n",
       "    </tr>\n",
       "    <tr>\n",
       "      <th>RMSE</th>\n",
       "      <td>0.921581</td>\n",
       "      <td>0.919601</td>\n",
       "      <td>0.923514</td>\n",
       "    </tr>\n",
       "  </tbody>\n",
       "</table>\n",
       "</div>"
      ],
      "text/plain": [
       "        cosine       msd   pearson\n",
       "MAE   0.706422  0.703830  0.704213\n",
       "RMSE  0.921581  0.919601  0.923514"
      ]
     },
     "execution_count": 138,
     "metadata": {},
     "output_type": "execute_result"
    }
   ],
   "source": [
    "e_ubcf_df"
   ]
  },
  {
   "cell_type": "code",
   "execution_count": 196,
   "metadata": {},
   "outputs": [
    {
     "data": {
      "text/plain": [
       "Text(0.5, 0.98, 'User Based Collaborative Filtering')"
      ]
     },
     "execution_count": 196,
     "metadata": {},
     "output_type": "execute_result"
    },
    {
     "data": {
      "image/png": "[encoded data removed]",
      "text/plain": [
       "<Figure size 504x360 with 2 Axes>"
      ]
     },
     "metadata": {
      "needs_background": "light"
     },
     "output_type": "display_data"
    }
   ],
   "source": [
    "fig, ax = plt.subplots(2,1, figsize=(7,5))\n",
    "ax[0].plot(e_ubcf_df.loc['MAE',:], label='MAE', c='red')\n",
    "ax[1].plot(e_ubcf_df.loc['RMSE',:], label='RMSE', c='blue')\n",
    "ax[0].legend()\n",
    "ax[1].legend()\n",
    "ax[0].set_ylabel(\"MAE\")\n",
    "ax[1].set_ylabel(\"RMSE\")\n",
    "ax[1].set_xlabel(\"Similarity Measure\")\n",
    "fig.suptitle(\"User Based Collaborative Filtering\")"
   ]
  },
  {
   "cell_type": "markdown",
   "metadata": {},
   "source": [
    "##### For the User Based Collaboration Filtering, the MSD was showing the lowest error among other similarity methods (cosine & pearson) in both MAE and the RMSE. Pearson shows the highest RMSE and Cosine showing the highest MAE"
   ]
  },
  {
   "cell_type": "code",
   "execution_count": 128,
   "metadata": {},
   "outputs": [],
   "source": [
    "# Item based Collaborative Filtering"
   ]
  },
  {
   "cell_type": "code",
   "execution_count": 129,
   "metadata": {},
   "outputs": [
    {
     "name": "stdout",
     "output_type": "stream",
     "text": [
      "Computing the cosine similarity matrix...\n",
      "Done computing similarity matrix.\n",
      "Computing the cosine similarity matrix...\n",
      "Done computing similarity matrix.\n",
      "Computing the cosine similarity matrix...\n",
      "Done computing similarity matrix.\n",
      "Computing the cosine similarity matrix...\n",
      "Done computing similarity matrix.\n",
      "Computing the cosine similarity matrix...\n",
      "Done computing similarity matrix.\n",
      "Evaluating RMSE, MAE of algorithm KNNWithMeans on 5 split(s).\n",
      "\n",
      "                  Fold 1  Fold 2  Fold 3  Fold 4  Fold 5  Mean    Std     \n",
      "RMSE (testset)    0.9224  0.9275  0.9256  0.9245  0.9285  0.9257  0.0022  \n",
      "MAE (testset)     0.7043  0.7113  0.7114  0.7075  0.7117  0.7092  0.0029  \n",
      "Fit time          16.34   16.58   16.29   15.73   17.52   16.49   0.58    \n",
      "Test time         6.76    7.49    7.40    6.78    7.44    7.17    0.33    \n",
      "Computing the msd similarity matrix...\n",
      "Done computing similarity matrix.\n",
      "Computing the msd similarity matrix...\n",
      "Done computing similarity matrix.\n",
      "Computing the msd similarity matrix...\n",
      "Done computing similarity matrix.\n",
      "Computing the msd similarity matrix...\n",
      "Done computing similarity matrix.\n",
      "Computing the msd similarity matrix...\n",
      "Done computing similarity matrix.\n",
      "Evaluating RMSE, MAE of algorithm KNNWithMeans on 5 split(s).\n",
      "\n",
      "                  Fold 1  Fold 2  Fold 3  Fold 4  Fold 5  Mean    Std     \n",
      "RMSE (testset)    0.9222  0.9169  0.9107  0.9228  0.9039  0.9153  0.0072  \n",
      "MAE (testset)     0.7060  0.7011  0.6966  0.7057  0.6940  0.7007  0.0048  \n",
      "Fit time          4.24    4.43    4.53    4.64    4.99    4.57    0.25    \n",
      "Test time         7.00    7.87    7.34    7.76    7.99    7.59    0.37    \n",
      "Computing the pearson similarity matrix...\n",
      "Done computing similarity matrix.\n",
      "Computing the pearson similarity matrix...\n",
      "Done computing similarity matrix.\n",
      "Computing the pearson similarity matrix...\n",
      "Done computing similarity matrix.\n",
      "Computing the pearson similarity matrix...\n",
      "Done computing similarity matrix.\n",
      "Computing the pearson similarity matrix...\n",
      "Done computing similarity matrix.\n",
      "Evaluating RMSE, MAE of algorithm KNNWithMeans on 5 split(s).\n",
      "\n",
      "                  Fold 1  Fold 2  Fold 3  Fold 4  Fold 5  Mean    Std     \n",
      "RMSE (testset)    0.9198  0.9291  0.9259  0.9214  0.9350  0.9262  0.0055  \n",
      "MAE (testset)     0.7007  0.7078  0.7085  0.7024  0.7122  0.7063  0.0042  \n",
      "Fit time          25.83   24.45   23.16   23.06   22.32   23.76   1.24    \n",
      "Test time         8.12    8.10    6.73    8.31    7.00    7.65    0.65    \n"
     ]
    }
   ],
   "source": [
    "ibcf_MAE_list = []\n",
    "ibcf_RMSE_list = []\n",
    "for i in dist_measures:\n",
    "    sim_options = {\"name\":i,\"user_based\": False}\n",
    "    print(sim_options)\n",
    "    e_ibcf = KNNWithMeans(sim_options=sim_options)\n",
    "    e_ibcf_cv = cross_validate(e_ibcf, data, measures=['RMSE', 'MAE'], cv=5, verbose=True);\n",
    "    ibcf_MAE_list.append(e_ibcf_cv['test_mae'].mean())\n",
    "    ibcf_RMSE_list.append(e_ibcf_cv['test_rmse'].mean())"
   ]
  },
  {
   "cell_type": "code",
   "execution_count": 130,
   "metadata": {},
   "outputs": [
    {
     "data": {
      "text/plain": [
       "[0.7092357898394571, 0.7006553697648977, 0.7063407503765099]"
      ]
     },
     "execution_count": 130,
     "metadata": {},
     "output_type": "execute_result"
    }
   ],
   "source": [
    "ibcf_MAE_list"
   ]
  },
  {
   "cell_type": "code",
   "execution_count": 131,
   "metadata": {},
   "outputs": [
    {
     "data": {
      "text/plain": [
       "[0.9257033799933975, 0.9153101222349573, 0.926234738613822]"
      ]
     },
     "execution_count": 131,
     "metadata": {},
     "output_type": "execute_result"
    }
   ],
   "source": [
    "ibcf_RMSE_list"
   ]
  },
  {
   "cell_type": "code",
   "execution_count": 132,
   "metadata": {},
   "outputs": [],
   "source": [
    "e_ibcf_df = pd.DataFrame([ibcf_MAE_list,ibcf_RMSE_list], columns=dist_measures, index=['MAE','RMSE'])"
   ]
  },
  {
   "cell_type": "code",
   "execution_count": 133,
   "metadata": {},
   "outputs": [
    {
     "data": {
      "text/html": [
       "<div>\n",
       "<style scoped>\n",
       "    .dataframe tbody tr th:only-of-type {\n",
       "        vertical-align: middle;\n",
       "    }\n",
       "\n",
       "    .dataframe tbody tr th {\n",
       "        vertical-align: top;\n",
       "    }\n",
       "\n",
       "    .dataframe thead th {\n",
       "        text-align: right;\n",
       "    }\n",
       "</style>\n",
       "<table border=\"1\" class=\"dataframe\">\n",
       "  <thead>\n",
       "    <tr style=\"text-align: right;\">\n",
       "      <th></th>\n",
       "      <th>cosine</th>\n",
       "      <th>msd</th>\n",
       "      <th>pearson</th>\n",
       "    </tr>\n",
       "  </thead>\n",
       "  <tbody>\n",
       "    <tr>\n",
       "      <th>MAE</th>\n",
       "      <td>0.709236</td>\n",
       "      <td>0.700655</td>\n",
       "      <td>0.706341</td>\n",
       "    </tr>\n",
       "    <tr>\n",
       "      <th>RMSE</th>\n",
       "      <td>0.925703</td>\n",
       "      <td>0.915310</td>\n",
       "      <td>0.926235</td>\n",
       "    </tr>\n",
       "  </tbody>\n",
       "</table>\n",
       "</div>"
      ],
      "text/plain": [
       "        cosine       msd   pearson\n",
       "MAE   0.709236  0.700655  0.706341\n",
       "RMSE  0.925703  0.915310  0.926235"
      ]
     },
     "execution_count": 133,
     "metadata": {},
     "output_type": "execute_result"
    }
   ],
   "source": [
    "e_ibcf_df"
   ]
  },
  {
   "cell_type": "code",
   "execution_count": 197,
   "metadata": {},
   "outputs": [
    {
     "data": {
      "text/plain": [
       "Text(0.5, 0.98, 'Item Based Collaborative Filtering')"
      ]
     },
     "execution_count": 197,
     "metadata": {},
     "output_type": "execute_result"
    },
    {
     "data": {
      "image/png": "[encoded data removed]",
      "text/plain": [
       "<Figure size 504x360 with 2 Axes>"
      ]
     },
     "metadata": {
      "needs_background": "light"
     },
     "output_type": "display_data"
    }
   ],
   "source": [
    "fig, ax = plt.subplots(2,1, figsize=(7,5))\n",
    "ax[0].plot(e_ibcf_df.loc['MAE',:], label='MAE', c='red')\n",
    "ax[1].plot(e_ibcf_df.loc['RMSE',:], label='RMSE', c='blue')\n",
    "ax[0].legend()\n",
    "ax[1].legend()\n",
    "ax[0].set_ylabel(\"MAE\")\n",
    "ax[1].set_ylabel(\"RMSE\")\n",
    "ax[1].set_xlabel(\"Similarity Measure\")\n",
    "fig.suptitle(\"Item Based Collaborative Filtering\")"
   ]
  },
  {
   "cell_type": "markdown",
   "metadata": {},
   "source": [
    "##### For the Item Based Collaboration Filtering, the MSD was showing the lowest error among other similarity methods (cosine & pearson) in both MAE and the RMSE. Pearson shows the highest RMSE and Cosine showing the highest MAE. These measures in Item Based Collaboratiove Filtering is consistent with the User Based Collaboration Filtering."
   ]
  },
  {
   "cell_type": "markdown",
   "metadata": {},
   "source": [
    "## f. Examine how the number of neighbors impacts the performances of User based Collaborative Filtering and Item based Collaborative Filtering? Plot your results. "
   ]
  },
  {
   "cell_type": "code",
   "execution_count": 168,
   "metadata": {},
   "outputs": [
    {
     "data": {
      "text/plain": [
       "[5, 10, 15, 20, 25, 30, 35, 40, 45, 50]"
      ]
     },
     "execution_count": 168,
     "metadata": {},
     "output_type": "execute_result"
    }
   ],
   "source": [
    "k=range(5,55,5)\n",
    "list(k)"
   ]
  },
  {
   "cell_type": "code",
   "execution_count": 170,
   "metadata": {},
   "outputs": [],
   "source": [
    "#Examining K for User Based Collaborative Filtering"
   ]
  },
  {
   "cell_type": "code",
   "execution_count": 172,
   "metadata": {},
   "outputs": [
    {
     "name": "stdout",
     "output_type": "stream",
     "text": [
      "K is : 5\n",
      "Computing the msd similarity matrix...\n",
      "Done computing similarity matrix.\n",
      "Computing the msd similarity matrix...\n",
      "Done computing similarity matrix.\n",
      "Computing the msd similarity matrix...\n",
      "Done computing similarity matrix.\n",
      "Computing the msd similarity matrix...\n",
      "Done computing similarity matrix.\n",
      "Computing the msd similarity matrix...\n",
      "Done computing similarity matrix.\n",
      "Evaluating RMSE of algorithm KNNWithMeans on 5 split(s).\n",
      "\n",
      "                  Fold 1  Fold 2  Fold 3  Fold 4  Fold 5  Mean    Std     \n",
      "RMSE (testset)    0.9526  0.9568  0.9608  0.9568  0.9634  0.9581  0.0037  \n",
      "Fit time          0.20    0.26    0.29    0.25    0.33    0.27    0.04    \n",
      "Test time         1.13    1.03    1.13    1.09    1.09    1.10    0.04    \n",
      "[0.9580620938491506]\n",
      "K is : 10\n",
      "Computing the msd similarity matrix...\n",
      "Done computing similarity matrix.\n",
      "Computing the msd similarity matrix...\n",
      "Done computing similarity matrix.\n",
      "Computing the msd similarity matrix...\n",
      "Done computing similarity matrix.\n",
      "Computing the msd similarity matrix...\n",
      "Done computing similarity matrix.\n",
      "Computing the msd similarity matrix...\n",
      "Done computing similarity matrix.\n",
      "Evaluating RMSE of algorithm KNNWithMeans on 5 split(s).\n",
      "\n",
      "                  Fold 1  Fold 2  Fold 3  Fold 4  Fold 5  Mean    Std     \n",
      "RMSE (testset)    0.9243  0.9301  0.9371  0.9276  0.9379  0.9314  0.0053  \n",
      "Fit time          0.24    0.25    0.26    0.28    0.26    0.26    0.01    \n",
      "Test time         1.40    1.26    1.23    1.27    1.16    1.26    0.08    \n",
      "[0.9580620938491506, 0.9313856708998994]\n",
      "K is : 15\n",
      "Computing the msd similarity matrix...\n",
      "Done computing similarity matrix.\n",
      "Computing the msd similarity matrix...\n",
      "Done computing similarity matrix.\n",
      "Computing the msd similarity matrix...\n",
      "Done computing similarity matrix.\n",
      "Computing the msd similarity matrix...\n",
      "Done computing similarity matrix.\n",
      "Computing the msd similarity matrix...\n",
      "Done computing similarity matrix.\n",
      "Evaluating RMSE of algorithm KNNWithMeans on 5 split(s).\n",
      "\n",
      "                  Fold 1  Fold 2  Fold 3  Fold 4  Fold 5  Mean    Std     \n",
      "RMSE (testset)    0.9197  0.9283  0.9261  0.9263  0.9245  0.9250  0.0029  \n",
      "Fit time          0.23    0.25    0.25    0.26    0.25    0.25    0.01    \n",
      "Test time         1.48    1.28    1.59    1.31    1.28    1.39    0.12    \n",
      "[0.9580620938491506, 0.9313856708998994, 0.9249682418616594]\n",
      "K is : 20\n",
      "Computing the msd similarity matrix...\n",
      "Done computing similarity matrix.\n",
      "Computing the msd similarity matrix...\n",
      "Done computing similarity matrix.\n",
      "Computing the msd similarity matrix...\n",
      "Done computing similarity matrix.\n",
      "Computing the msd similarity matrix...\n",
      "Done computing similarity matrix.\n",
      "Computing the msd similarity matrix...\n",
      "Done computing similarity matrix.\n",
      "Evaluating RMSE of algorithm KNNWithMeans on 5 split(s).\n",
      "\n",
      "                  Fold 1  Fold 2  Fold 3  Fold 4  Fold 5  Mean    Std     \n",
      "RMSE (testset)    0.9167  0.9273  0.9144  0.9222  0.9290  0.9219  0.0057  \n",
      "Fit time          0.23    0.26    0.30    0.25    0.25    0.26    0.02    \n",
      "Test time         1.44    1.53    1.61    1.53    1.64    1.55    0.07    \n",
      "[0.9580620938491506, 0.9313856708998994, 0.9249682418616594, 0.9219183473798968]\n",
      "K is : 25\n",
      "Computing the msd similarity matrix...\n",
      "Done computing similarity matrix.\n",
      "Computing the msd similarity matrix...\n",
      "Done computing similarity matrix.\n",
      "Computing the msd similarity matrix...\n",
      "Done computing similarity matrix.\n",
      "Computing the msd similarity matrix...\n",
      "Done computing similarity matrix.\n",
      "Computing the msd similarity matrix...\n",
      "Done computing similarity matrix.\n",
      "Evaluating RMSE of algorithm KNNWithMeans on 5 split(s).\n",
      "\n",
      "                  Fold 1  Fold 2  Fold 3  Fold 4  Fold 5  Mean    Std     \n",
      "RMSE (testset)    0.9243  0.9143  0.9145  0.9215  0.9173  0.9184  0.0039  \n",
      "Fit time          0.24    0.34    0.27    0.26    0.25    0.27    0.04    \n",
      "Test time         1.88    1.92    1.55    1.72    1.60    1.73    0.15    \n",
      "[0.9580620938491506, 0.9313856708998994, 0.9249682418616594, 0.9219183473798968, 0.9183945406289835]\n",
      "K is : 30\n",
      "Computing the msd similarity matrix...\n",
      "Done computing similarity matrix.\n",
      "Computing the msd similarity matrix...\n",
      "Done computing similarity matrix.\n",
      "Computing the msd similarity matrix...\n",
      "Done computing similarity matrix.\n",
      "Computing the msd similarity matrix...\n",
      "Done computing similarity matrix.\n",
      "Computing the msd similarity matrix...\n",
      "Done computing similarity matrix.\n",
      "Evaluating RMSE of algorithm KNNWithMeans on 5 split(s).\n",
      "\n",
      "                  Fold 1  Fold 2  Fold 3  Fold 4  Fold 5  Mean    Std     \n",
      "RMSE (testset)    0.9207  0.9282  0.9173  0.9181  0.9159  0.9200  0.0044  \n",
      "Fit time          0.23    0.29    0.25    0.26    0.25    0.26    0.02    \n",
      "Test time         1.88    1.99    1.68    1.67    1.53    1.75    0.16    \n",
      "[0.9580620938491506, 0.9313856708998994, 0.9249682418616594, 0.9219183473798968, 0.9183945406289835, 0.9200281852747765]\n",
      "K is : 35\n",
      "Computing the msd similarity matrix...\n",
      "Done computing similarity matrix.\n",
      "Computing the msd similarity matrix...\n",
      "Done computing similarity matrix.\n",
      "Computing the msd similarity matrix...\n",
      "Done computing similarity matrix.\n",
      "Computing the msd similarity matrix...\n",
      "Done computing similarity matrix.\n",
      "Computing the msd similarity matrix...\n",
      "Done computing similarity matrix.\n",
      "Evaluating RMSE of algorithm KNNWithMeans on 5 split(s).\n",
      "\n",
      "                  Fold 1  Fold 2  Fold 3  Fold 4  Fold 5  Mean    Std     \n",
      "RMSE (testset)    0.9156  0.9208  0.9247  0.9210  0.9093  0.9183  0.0053  \n",
      "Fit time          0.24    0.27    0.27    0.26    0.27    0.26    0.01    \n",
      "Test time         2.26    1.77    1.84    1.85    1.90    1.92    0.17    \n",
      "[0.9580620938491506, 0.9313856708998994, 0.9249682418616594, 0.9219183473798968, 0.9183945406289835, 0.9200281852747765, 0.9182824413591941]\n",
      "K is : 40\n",
      "Computing the msd similarity matrix...\n",
      "Done computing similarity matrix.\n",
      "Computing the msd similarity matrix...\n",
      "Done computing similarity matrix.\n",
      "Computing the msd similarity matrix...\n",
      "Done computing similarity matrix.\n",
      "Computing the msd similarity matrix...\n",
      "Done computing similarity matrix.\n",
      "Computing the msd similarity matrix...\n",
      "Done computing similarity matrix.\n",
      "Evaluating RMSE of algorithm KNNWithMeans on 5 split(s).\n",
      "\n",
      "                  Fold 1  Fold 2  Fold 3  Fold 4  Fold 5  Mean    Std     \n",
      "RMSE (testset)    0.9260  0.9158  0.9191  0.9140  0.9267  0.9203  0.0052  \n",
      "Fit time          0.26    0.43    0.28    0.25    0.27    0.30    0.07    \n",
      "Test time         2.21    2.43    2.02    1.91    1.88    2.09    0.20    \n",
      "[0.9580620938491506, 0.9313856708998994, 0.9249682418616594, 0.9219183473798968, 0.9183945406289835, 0.9200281852747765, 0.9182824413591941, 0.9203131236321351]\n",
      "K is : 45\n",
      "Computing the msd similarity matrix...\n",
      "Done computing similarity matrix.\n",
      "Computing the msd similarity matrix...\n",
      "Done computing similarity matrix.\n",
      "Computing the msd similarity matrix...\n",
      "Done computing similarity matrix.\n",
      "Computing the msd similarity matrix...\n",
      "Done computing similarity matrix.\n",
      "Computing the msd similarity matrix...\n",
      "Done computing similarity matrix.\n",
      "Evaluating RMSE of algorithm KNNWithMeans on 5 split(s).\n",
      "\n",
      "                  Fold 1  Fold 2  Fold 3  Fold 4  Fold 5  Mean    Std     \n",
      "RMSE (testset)    0.9215  0.9149  0.9211  0.9213  0.9189  0.9196  0.0025  \n",
      "Fit time          0.25    0.25    0.34    0.28    0.27    0.28    0.03    \n",
      "Test time         1.84    2.41    2.19    1.78    1.94    2.03    0.24    \n",
      "[0.9580620938491506, 0.9313856708998994, 0.9249682418616594, 0.9219183473798968, 0.9183945406289835, 0.9200281852747765, 0.9182824413591941, 0.9203131236321351, 0.9195500988904712]\n",
      "K is : 50\n",
      "Computing the msd similarity matrix...\n",
      "Done computing similarity matrix.\n",
      "Computing the msd similarity matrix...\n",
      "Done computing similarity matrix.\n",
      "Computing the msd similarity matrix...\n",
      "Done computing similarity matrix.\n",
      "Computing the msd similarity matrix...\n",
      "Done computing similarity matrix.\n",
      "Computing the msd similarity matrix...\n",
      "Done computing similarity matrix.\n",
      "Evaluating RMSE of algorithm KNNWithMeans on 5 split(s).\n",
      "\n",
      "                  Fold 1  Fold 2  Fold 3  Fold 4  Fold 5  Mean    Std     \n",
      "RMSE (testset)    0.9215  0.9160  0.9189  0.9172  0.9210  0.9189  0.0021  \n",
      "Fit time          0.23    0.25    0.30    0.25    0.28    0.26    0.02    \n",
      "Test time         1.97    1.87    2.07    1.82    1.78    1.90    0.10    \n",
      "[0.9580620938491506, 0.9313856708998994, 0.9249682418616594, 0.9219183473798968, 0.9183945406289835, 0.9200281852747765, 0.9182824413591941, 0.9203131236321351, 0.9195500988904712, 0.9189099095014635]\n"
     ]
    }
   ],
   "source": [
    "ubcf_RMSE_list_k = []\n",
    "for i in k:\n",
    "    sim_options = {\"name\":\"msd\",\"user_based\": True}\n",
    "    print(\"K is : {}\".format(i))\n",
    "    f_ubcf = KNNWithMeans(sim_options=sim_options, k=i)\n",
    "    f_ubcf_cv = cross_validate(f_ubcf, data, measures=['RMSE'], cv=5, verbose=True);\n",
    "    ubcf_RMSE_list_k.append(f_ubcf_cv['test_rmse'].mean())\n",
    "    print(ubcf_RMSE_list_k)"
   ]
  },
  {
   "cell_type": "code",
   "execution_count": 173,
   "metadata": {},
   "outputs": [],
   "source": [
    "#Examining K for User Based Collaborative Filtering"
   ]
  },
  {
   "cell_type": "code",
   "execution_count": 174,
   "metadata": {},
   "outputs": [
    {
     "name": "stdout",
     "output_type": "stream",
     "text": [
      "K is : 5\n",
      "Computing the msd similarity matrix...\n",
      "Done computing similarity matrix.\n",
      "Computing the msd similarity matrix...\n",
      "Done computing similarity matrix.\n",
      "Computing the msd similarity matrix...\n",
      "Done computing similarity matrix.\n",
      "Computing the msd similarity matrix...\n",
      "Done computing similarity matrix.\n",
      "Computing the msd similarity matrix...\n",
      "Done computing similarity matrix.\n",
      "Evaluating RMSE of algorithm KNNWithMeans on 5 split(s).\n",
      "\n",
      "                  Fold 1  Fold 2  Fold 3  Fold 4  Fold 5  Mean    Std     \n",
      "RMSE (testset)    0.9517  0.9628  0.9583  0.9602  0.9589  0.9584  0.0037  \n",
      "Fit time          0.25    0.29    0.26    0.29    0.25    0.27    0.02    \n",
      "Test time         1.11    1.15    1.22    1.08    1.39    1.19    0.11    \n",
      "[0.9583900611855014]\n",
      "K is : 10\n",
      "Computing the msd similarity matrix...\n",
      "Done computing similarity matrix.\n",
      "Computing the msd similarity matrix...\n",
      "Done computing similarity matrix.\n",
      "Computing the msd similarity matrix...\n",
      "Done computing similarity matrix.\n",
      "Computing the msd similarity matrix...\n",
      "Done computing similarity matrix.\n",
      "Computing the msd similarity matrix...\n",
      "Done computing similarity matrix.\n",
      "Evaluating RMSE of algorithm KNNWithMeans on 5 split(s).\n",
      "\n",
      "                  Fold 1  Fold 2  Fold 3  Fold 4  Fold 5  Mean    Std     \n",
      "RMSE (testset)    0.9307  0.9321  0.9289  0.9356  0.9337  0.9322  0.0023  \n",
      "Fit time          0.28    0.41    0.26    0.31    0.25    0.30    0.06    \n",
      "Test time         1.41    1.26    1.35    1.51    1.35    1.38    0.08    \n",
      "[0.9583900611855014, 0.9322055878357307]\n",
      "K is : 15\n",
      "Computing the msd similarity matrix...\n",
      "Done computing similarity matrix.\n",
      "Computing the msd similarity matrix...\n",
      "Done computing similarity matrix.\n",
      "Computing the msd similarity matrix...\n",
      "Done computing similarity matrix.\n",
      "Computing the msd similarity matrix...\n",
      "Done computing similarity matrix.\n",
      "Computing the msd similarity matrix...\n",
      "Done computing similarity matrix.\n",
      "Evaluating RMSE of algorithm KNNWithMeans on 5 split(s).\n",
      "\n",
      "                  Fold 1  Fold 2  Fold 3  Fold 4  Fold 5  Mean    Std     \n",
      "RMSE (testset)    0.9204  0.9206  0.9262  0.9253  0.9262  0.9237  0.0027  \n",
      "Fit time          0.26    0.28    0.37    0.26    0.26    0.29    0.04    \n",
      "Test time         1.45    1.47    1.64    2.07    1.35    1.60    0.26    \n",
      "[0.9583900611855014, 0.9322055878357307, 0.9237296689907442]\n",
      "K is : 20\n",
      "Computing the msd similarity matrix...\n",
      "Done computing similarity matrix.\n",
      "Computing the msd similarity matrix...\n",
      "Done computing similarity matrix.\n",
      "Computing the msd similarity matrix...\n",
      "Done computing similarity matrix.\n",
      "Computing the msd similarity matrix...\n",
      "Done computing similarity matrix.\n",
      "Computing the msd similarity matrix...\n",
      "Done computing similarity matrix.\n",
      "Evaluating RMSE of algorithm KNNWithMeans on 5 split(s).\n",
      "\n",
      "                  Fold 1  Fold 2  Fold 3  Fold 4  Fold 5  Mean    Std     \n",
      "RMSE (testset)    0.9218  0.9186  0.9252  0.9201  0.9194  0.9210  0.0023  \n",
      "Fit time          0.23    0.25    0.25    0.25    0.30    0.26    0.02    \n",
      "Test time         1.45    1.40    1.55    1.83    1.48    1.54    0.15    \n",
      "[0.9583900611855014, 0.9322055878357307, 0.9237296689907442, 0.9209893324604721]\n",
      "K is : 25\n",
      "Computing the msd similarity matrix...\n",
      "Done computing similarity matrix.\n",
      "Computing the msd similarity matrix...\n",
      "Done computing similarity matrix.\n",
      "Computing the msd similarity matrix...\n",
      "Done computing similarity matrix.\n",
      "Computing the msd similarity matrix...\n",
      "Done computing similarity matrix.\n",
      "Computing the msd similarity matrix...\n",
      "Done computing similarity matrix.\n",
      "Evaluating RMSE of algorithm KNNWithMeans on 5 split(s).\n",
      "\n",
      "                  Fold 1  Fold 2  Fold 3  Fold 4  Fold 5  Mean    Std     \n",
      "RMSE (testset)    0.9256  0.9215  0.9163  0.9214  0.9179  0.9205  0.0032  \n",
      "Fit time          0.29    0.28    0.27    0.26    0.25    0.27    0.02    \n",
      "Test time         1.79    1.99    1.72    1.55    1.62    1.73    0.15    \n",
      "[0.9583900611855014, 0.9322055878357307, 0.9237296689907442, 0.9209893324604721, 0.9205295171212228]\n",
      "K is : 30\n",
      "Computing the msd similarity matrix...\n",
      "Done computing similarity matrix.\n",
      "Computing the msd similarity matrix...\n",
      "Done computing similarity matrix.\n",
      "Computing the msd similarity matrix...\n",
      "Done computing similarity matrix.\n",
      "Computing the msd similarity matrix...\n",
      "Done computing similarity matrix.\n",
      "Computing the msd similarity matrix...\n",
      "Done computing similarity matrix.\n",
      "Evaluating RMSE of algorithm KNNWithMeans on 5 split(s).\n",
      "\n",
      "                  Fold 1  Fold 2  Fold 3  Fold 4  Fold 5  Mean    Std     \n",
      "RMSE (testset)    0.9234  0.9243  0.9136  0.9125  0.9240  0.9196  0.0053  \n",
      "Fit time          0.24    0.30    0.28    0.30    0.27    0.28    0.02    \n",
      "Test time         2.02    1.61    1.84    1.87    1.68    1.80    0.14    \n",
      "[0.9583900611855014, 0.9322055878357307, 0.9237296689907442, 0.9209893324604721, 0.9205295171212228, 0.9195539210485076]\n",
      "K is : 35\n",
      "Computing the msd similarity matrix...\n",
      "Done computing similarity matrix.\n",
      "Computing the msd similarity matrix...\n",
      "Done computing similarity matrix.\n",
      "Computing the msd similarity matrix...\n",
      "Done computing similarity matrix.\n",
      "Computing the msd similarity matrix...\n",
      "Done computing similarity matrix.\n",
      "Computing the msd similarity matrix...\n",
      "Done computing similarity matrix.\n",
      "Evaluating RMSE of algorithm KNNWithMeans on 5 split(s).\n",
      "\n",
      "                  Fold 1  Fold 2  Fold 3  Fold 4  Fold 5  Mean    Std     \n",
      "RMSE (testset)    0.9277  0.9230  0.9156  0.9228  0.9156  0.9209  0.0047  \n",
      "Fit time          0.29    0.34    0.28    0.29    0.38    0.31    0.04    \n",
      "Test time         1.72    1.89    1.93    2.85    2.15    2.11    0.40    \n",
      "[0.9583900611855014, 0.9322055878357307, 0.9237296689907442, 0.9209893324604721, 0.9205295171212228, 0.9195539210485076, 0.9209491846655702]\n",
      "K is : 40\n",
      "Computing the msd similarity matrix...\n",
      "Done computing similarity matrix.\n",
      "Computing the msd similarity matrix...\n",
      "Done computing similarity matrix.\n",
      "Computing the msd similarity matrix...\n",
      "Done computing similarity matrix.\n",
      "Computing the msd similarity matrix...\n",
      "Done computing similarity matrix.\n",
      "Computing the msd similarity matrix...\n",
      "Done computing similarity matrix.\n",
      "Evaluating RMSE of algorithm KNNWithMeans on 5 split(s).\n",
      "\n",
      "                  Fold 1  Fold 2  Fold 3  Fold 4  Fold 5  Mean    Std     \n",
      "RMSE (testset)    0.9104  0.9244  0.9134  0.9196  0.9261  0.9188  0.0061  \n",
      "Fit time          0.37    0.30    0.31    0.31    0.36    0.33    0.03    \n",
      "Test time         2.40    2.18    2.91    2.24    2.94    2.53    0.33    \n",
      "[0.9583900611855014, 0.9322055878357307, 0.9237296689907442, 0.9209893324604721, 0.9205295171212228, 0.9195539210485076, 0.9209491846655702, 0.9187521291744787]\n",
      "K is : 45\n",
      "Computing the msd similarity matrix...\n",
      "Done computing similarity matrix.\n",
      "Computing the msd similarity matrix...\n",
      "Done computing similarity matrix.\n",
      "Computing the msd similarity matrix...\n",
      "Done computing similarity matrix.\n",
      "Computing the msd similarity matrix...\n",
      "Done computing similarity matrix.\n",
      "Computing the msd similarity matrix...\n",
      "Done computing similarity matrix.\n",
      "Evaluating RMSE of algorithm KNNWithMeans on 5 split(s).\n",
      "\n",
      "                  Fold 1  Fold 2  Fold 3  Fold 4  Fold 5  Mean    Std     \n",
      "RMSE (testset)    0.9255  0.9147  0.9157  0.9187  0.9168  0.9183  0.0038  \n",
      "Fit time          0.30    0.27    0.26    0.29    0.30    0.28    0.02    \n",
      "Test time         2.19    1.72    1.89    2.32    2.30    2.08    0.24    \n",
      "[0.9583900611855014, 0.9322055878357307, 0.9237296689907442, 0.9209893324604721, 0.9205295171212228, 0.9195539210485076, 0.9209491846655702, 0.9187521291744787, 0.9182847594830321]\n",
      "K is : 50\n",
      "Computing the msd similarity matrix...\n",
      "Done computing similarity matrix.\n",
      "Computing the msd similarity matrix...\n",
      "Done computing similarity matrix.\n",
      "Computing the msd similarity matrix...\n",
      "Done computing similarity matrix.\n",
      "Computing the msd similarity matrix...\n",
      "Done computing similarity matrix.\n",
      "Computing the msd similarity matrix...\n",
      "Done computing similarity matrix.\n",
      "Evaluating RMSE of algorithm KNNWithMeans on 5 split(s).\n",
      "\n",
      "                  Fold 1  Fold 2  Fold 3  Fold 4  Fold 5  Mean    Std     \n",
      "RMSE (testset)    0.9242  0.9188  0.9151  0.9201  0.9162  0.9189  0.0032  \n",
      "Fit time          0.31    0.26    0.25    0.27    0.28    0.27    0.02    \n",
      "Test time         2.01    2.13    1.93    1.84    2.22    2.03    0.13    \n",
      "[0.9583900611855014, 0.9322055878357307, 0.9237296689907442, 0.9209893324604721, 0.9205295171212228, 0.9195539210485076, 0.9209491846655702, 0.9187521291744787, 0.9182847594830321, 0.9188800394412595]\n"
     ]
    }
   ],
   "source": [
    "ibcf_RMSE_list_k = []\n",
    "for i in k:\n",
    "    sim_options = {\"name\":\"msd\",\"user_based\": True}\n",
    "    print(\"K is : {}\".format(i))\n",
    "    f_ibcf = KNNWithMeans(sim_options=sim_options, k=i)\n",
    "    f_ibcf_cv = cross_validate(f_ibcf, data, measures=['RMSE'], cv=5, verbose=True);\n",
    "    ibcf_RMSE_list_k.append(f_ibcf_cv['test_rmse'].mean())\n",
    "    print(ibcf_RMSE_list_k)"
   ]
  },
  {
   "cell_type": "code",
   "execution_count": 177,
   "metadata": {},
   "outputs": [],
   "source": [
    "k_comp_df = pd.DataFrame([ubcf_RMSE_list_k,ibcf_RMSE_list_k], columns=list(k), index=['UBCF','IBCF']).transpose()"
   ]
  },
  {
   "cell_type": "code",
   "execution_count": 204,
   "metadata": {},
   "outputs": [
    {
     "data": {
      "text/plain": [
       "<matplotlib.legend.Legend at 0x24b08bbdbe0>"
      ]
     },
     "execution_count": 204,
     "metadata": {},
     "output_type": "execute_result"
    },
    {
     "data": {
      "image/png": "[encoded data removed]",
      "text/plain": [
       "<Figure size 720x360 with 1 Axes>"
      ]
     },
     "metadata": {
      "needs_background": "light"
     },
     "output_type": "display_data"
    }
   ],
   "source": [
    "plt.figure(figsize=(10,5));\n",
    "plt.suptitle(\"Elbow chart for selecting the best K\")\n",
    "plt.xlabel(\"K Nearest Neighbors\")\n",
    "plt.ylabel(\"RMSE\")\n",
    "plt.plot(k_comp_df.UBCF, label='UBCF')\n",
    "plt.plot(k_comp_df.IBCF, label='IBCF')\n",
    "plt.legend()"
   ]
  },
  {
   "cell_type": "code",
   "execution_count": null,
   "metadata": {},
   "outputs": [],
   "source": []
  }
 ],
 "metadata": {
  "kernelspec": {
   "display_name": "Python 3",
   "language": "python",
   "name": "python3"
  },
  "language_info": {
   "codemirror_mode": {
    "name": "ipython",
    "version": 3
   },
   "file_extension": ".py",
   "mimetype": "text/x-python",
   "name": "python",
   "nbconvert_exporter": "python",
   "pygments_lexer": "ipython3",
   "version": "3.6.8"
  }
 },
 "nbformat": 4,
 "nbformat_minor": 4
}
